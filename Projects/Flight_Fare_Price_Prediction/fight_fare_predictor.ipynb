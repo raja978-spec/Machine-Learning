{
 "cells": [
  {
   "cell_type": "code",
   "execution_count": null,
   "id": "eaef3217-58f7-42a0-bc1e-dc8a20023a7e",
   "metadata": {},
   "outputs": [
    {
     "name": "stdout",
     "output_type": "stream",
     "text": [
      "(10682, 11)\n",
      "(10683, 11)\n",
      "Airline\n",
      "0\n",
      "-------------------------------------------------------------------\n",
      "Date_of_Journey\n",
      "0\n",
      "-------------------------------------------------------------------\n",
      "Source\n",
      "0\n",
      "-------------------------------------------------------------------\n",
      "Destination\n",
      "0\n",
      "-------------------------------------------------------------------\n",
      "Route\n",
      "1\n",
      "-------------------------------------------------------------------\n",
      "Dep_Time\n",
      "0\n",
      "-------------------------------------------------------------------\n",
      "Arrival_Time\n",
      "0\n",
      "-------------------------------------------------------------------\n",
      "Duration\n",
      "0\n",
      "-------------------------------------------------------------------\n",
      "Total_Stops\n",
      "1\n",
      "-------------------------------------------------------------------\n",
      "Additional_Info\n",
      "0\n",
      "-------------------------------------------------------------------\n",
      "Price\n",
      "0\n",
      "-------------------------------------------------------------------\n"
     ]
    }
   ],
   "source": [
    "from pathlib import Path\n",
    "import pandas as pd\n",
    "import os\n",
    "\n",
    "dataset_dir = Path(os.getcwd(),'dataset')\n",
    "train_dataset = dataset_dir / \"Data_Train.xlsx\"\n",
    "\n",
    "train_df = pd.read_excel(train_dataset, engine='openpyxl')\n",
    "print(train_df.dropna().shape)\n",
    "print(train_df.shape)\n",
    "\n",
    "for column in train_df.columns:\n",
    "    print(column)\n",
    "    print(len(train_df[train_df[column].isna()].))\n",
    "    print('-------------------------------------------------------------------')\n"
   ]
  },
  {
   "cell_type": "code",
   "execution_count": null,
   "id": "715995f9",
   "metadata": {},
   "outputs": [],
   "source": []
  }
 ],
 "metadata": {
  "kernelspec": {
   "display_name": "Python 3",
   "language": "python",
   "name": "python3"
  },
  "language_info": {
   "codemirror_mode": {
    "name": "ipython",
    "version": 3
   },
   "file_extension": ".py",
   "mimetype": "text/x-python",
   "name": "python",
   "nbconvert_exporter": "python",
   "pygments_lexer": "ipython3",
   "version": "3.10.0"
  }
 },
 "nbformat": 4,
 "nbformat_minor": 5
}
